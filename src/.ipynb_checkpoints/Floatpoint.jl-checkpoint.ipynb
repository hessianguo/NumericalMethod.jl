{
 "cells": [
  {
   "cell_type": "markdown",
   "id": "362bad0f",
   "metadata": {},
   "source": [
    "# Smallest floating point number"
   ]
  },
  {
   "cell_type": "markdown",
   "id": "51046dd4",
   "metadata": {},
   "source": [
    "# Float point are not uniformly distributed"
   ]
  },
  {
   "cell_type": "code",
   "execution_count": 18,
   "id": "d49da64a",
   "metadata": {},
   "outputs": [
    {
     "data": {
      "text/plain": [
       "1.0"
      ]
     },
     "execution_count": 18,
     "metadata": {},
     "output_type": "execute_result"
    }
   ],
   "source": [
    "x1=1.0"
   ]
  },
  {
   "cell_type": "code",
   "execution_count": 19,
   "id": "0db8d14a",
   "metadata": {},
   "outputs": [
    {
     "data": {
      "text/plain": [
       "1.0000000000000002"
      ]
     },
     "execution_count": 19,
     "metadata": {},
     "output_type": "execute_result"
    }
   ],
   "source": [
    "y1=nextfloat(x1)"
   ]
  },
  {
   "cell_type": "code",
   "execution_count": 20,
   "id": "32cff8ee",
   "metadata": {},
   "outputs": [
    {
     "data": {
      "text/plain": [
       "\"0011111111110000000000000000000000000000000000000000000000000000\""
      ]
     },
     "execution_count": 20,
     "metadata": {},
     "output_type": "execute_result"
    }
   ],
   "source": [
    "bitstring(x1)"
   ]
  },
  {
   "cell_type": "code",
   "execution_count": 21,
   "id": "2ba9bb0c",
   "metadata": {},
   "outputs": [
    {
     "data": {
      "text/plain": [
       "\"0011111111110000000000000000000000000000000000000000000000000001\""
      ]
     },
     "execution_count": 21,
     "metadata": {},
     "output_type": "execute_result"
    }
   ],
   "source": [
    "bitstring(y1)"
   ]
  },
  {
   "cell_type": "code",
   "execution_count": 22,
   "id": "52fb9ab8",
   "metadata": {},
   "outputs": [
    {
     "data": {
      "text/plain": [
       "2.0"
      ]
     },
     "execution_count": 22,
     "metadata": {},
     "output_type": "execute_result"
    }
   ],
   "source": [
    "x2 = 2.0"
   ]
  },
  {
   "cell_type": "code",
   "execution_count": 24,
   "id": "e8fc21e1",
   "metadata": {},
   "outputs": [
    {
     "data": {
      "text/plain": [
       "2.0000000000000004"
      ]
     },
     "execution_count": 24,
     "metadata": {},
     "output_type": "execute_result"
    }
   ],
   "source": [
    "y2= nextfloat(x2)"
   ]
  },
  {
   "cell_type": "code",
   "execution_count": 27,
   "id": "a69807ab",
   "metadata": {},
   "outputs": [
    {
     "data": {
      "text/plain": [
       "\"0100000000000000000000000000000000000000000000000000000000000000\""
      ]
     },
     "execution_count": 27,
     "metadata": {},
     "output_type": "execute_result"
    }
   ],
   "source": [
    "bitstring(x2)"
   ]
  },
  {
   "cell_type": "code",
   "execution_count": 28,
   "id": "49f2387a",
   "metadata": {},
   "outputs": [
    {
     "data": {
      "text/plain": [
       "\"0100000000000000000000000000000000000000000000000000000000000001\""
      ]
     },
     "execution_count": 28,
     "metadata": {},
     "output_type": "execute_result"
    }
   ],
   "source": [
    "bitstring(y2)"
   ]
  },
  {
   "cell_type": "code",
   "execution_count": 32,
   "id": "cbdc383d",
   "metadata": {},
   "outputs": [
    {
     "data": {
      "text/plain": [
       "4.0"
      ]
     },
     "execution_count": 32,
     "metadata": {},
     "output_type": "execute_result"
    }
   ],
   "source": [
    "x3 = 4.0"
   ]
  },
  {
   "cell_type": "code",
   "execution_count": 33,
   "id": "67992415",
   "metadata": {},
   "outputs": [
    {
     "data": {
      "text/plain": [
       "2.0000000000000004"
      ]
     },
     "execution_count": 33,
     "metadata": {},
     "output_type": "execute_result"
    }
   ],
   "source": [
    "y3 = nextfloat(x2)"
   ]
  },
  {
   "cell_type": "code",
   "execution_count": 34,
   "id": "734d7584",
   "metadata": {},
   "outputs": [
    {
     "data": {
      "text/plain": [
       "\"0100000000010000000000000000000000000000000000000000000000000000\""
      ]
     },
     "execution_count": 34,
     "metadata": {},
     "output_type": "execute_result"
    }
   ],
   "source": [
    "bitstring(x3)"
   ]
  },
  {
   "cell_type": "code",
   "execution_count": 35,
   "id": "3dfe31ad",
   "metadata": {},
   "outputs": [
    {
     "data": {
      "text/plain": [
       "\"0100000000000000000000000000000000000000000000000000000000000001\""
      ]
     },
     "execution_count": 35,
     "metadata": {},
     "output_type": "execute_result"
    }
   ],
   "source": [
    "bitstring(y3)"
   ]
  },
  {
   "cell_type": "code",
   "execution_count": null,
   "id": "46d993dc",
   "metadata": {},
   "outputs": [],
   "source": []
  },
  {
   "cell_type": "code",
   "execution_count": null,
   "id": "6fee5368",
   "metadata": {},
   "outputs": [],
   "source": []
  }
 ],
 "metadata": {
  "kernelspec": {
   "display_name": "Julia 1.6.1",
   "language": "julia",
   "name": "julia-1.6"
  },
  "language_info": {
   "file_extension": ".jl",
   "mimetype": "application/julia",
   "name": "julia",
   "version": "1.6.1"
  }
 },
 "nbformat": 4,
 "nbformat_minor": 5
}
