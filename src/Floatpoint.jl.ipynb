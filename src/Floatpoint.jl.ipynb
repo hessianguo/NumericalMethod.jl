{
 "cells": [
  {
   "cell_type": "markdown",
   "id": "fabc33ca",
   "metadata": {},
   "source": [
    "# Float point are not uniformly distributed"
   ]
  },
  {
   "cell_type": "code",
   "execution_count": 50,
   "id": "5df1385d",
   "metadata": {},
   "outputs": [
    {
     "data": {
      "text/plain": [
       "1.0"
      ]
     },
     "execution_count": 50,
     "metadata": {},
     "output_type": "execute_result"
    }
   ],
   "source": [
    "x1=1.0"
   ]
  },
  {
   "cell_type": "code",
   "execution_count": 19,
   "id": "269ab9a5",
   "metadata": {},
   "outputs": [
    {
     "data": {
      "text/plain": [
       "1.0000000000000002"
      ]
     },
     "execution_count": 19,
     "metadata": {},
     "output_type": "execute_result"
    }
   ],
   "source": [
    "y1=nextfloat(x1)"
   ]
  },
  {
   "cell_type": "code",
   "execution_count": 20,
   "id": "8e131bd4",
   "metadata": {},
   "outputs": [
    {
     "data": {
      "text/plain": [
       "\"0011111111110000000000000000000000000000000000000000000000000000\""
      ]
     },
     "execution_count": 20,
     "metadata": {},
     "output_type": "execute_result"
    }
   ],
   "source": [
    "bitstring(x1)"
   ]
  },
  {
   "cell_type": "code",
   "execution_count": 21,
   "id": "b030194c",
   "metadata": {},
   "outputs": [
    {
     "data": {
      "text/plain": [
       "\"0011111111110000000000000000000000000000000000000000000000000001\""
      ]
     },
     "execution_count": 21,
     "metadata": {},
     "output_type": "execute_result"
    }
   ],
   "source": [
    "bitstring(y1)"
   ]
  },
  {
   "cell_type": "code",
   "execution_count": 22,
   "id": "ec969cd8",
   "metadata": {},
   "outputs": [
    {
     "data": {
      "text/plain": [
       "2.0"
      ]
     },
     "execution_count": 22,
     "metadata": {},
     "output_type": "execute_result"
    }
   ],
   "source": [
    "x2 = 2.0"
   ]
  },
  {
   "cell_type": "code",
   "execution_count": 24,
   "id": "03137d98",
   "metadata": {},
   "outputs": [
    {
     "data": {
      "text/plain": [
       "2.0000000000000004"
      ]
     },
     "execution_count": 24,
     "metadata": {},
     "output_type": "execute_result"
    }
   ],
   "source": [
    "y2= nextfloat(x2)"
   ]
  },
  {
   "cell_type": "code",
   "execution_count": 27,
   "id": "82350ba9",
   "metadata": {},
   "outputs": [
    {
     "data": {
      "text/plain": [
       "\"0100000000000000000000000000000000000000000000000000000000000000\""
      ]
     },
     "execution_count": 27,
     "metadata": {},
     "output_type": "execute_result"
    }
   ],
   "source": [
    "bitstring(x2)"
   ]
  },
  {
   "cell_type": "code",
   "execution_count": 28,
   "id": "23d3c98f",
   "metadata": {},
   "outputs": [
    {
     "data": {
      "text/plain": [
       "\"0100000000000000000000000000000000000000000000000000000000000001\""
      ]
     },
     "execution_count": 28,
     "metadata": {},
     "output_type": "execute_result"
    }
   ],
   "source": [
    "bitstring(y2)"
   ]
  },
  {
   "cell_type": "code",
   "execution_count": 52,
   "id": "e4485dd1",
   "metadata": {},
   "outputs": [
    {
     "data": {
      "text/plain": [
       "4.0"
      ]
     },
     "execution_count": 52,
     "metadata": {},
     "output_type": "execute_result"
    }
   ],
   "source": [
    "x3 = 4.0"
   ]
  },
  {
   "cell_type": "code",
   "execution_count": 54,
   "id": "f760d2d3",
   "metadata": {},
   "outputs": [
    {
     "data": {
      "text/plain": [
       "4.000000000000001"
      ]
     },
     "execution_count": 54,
     "metadata": {},
     "output_type": "execute_result"
    }
   ],
   "source": [
    "y3 = nextfloat(x3)"
   ]
  },
  {
   "cell_type": "code",
   "execution_count": 55,
   "id": "74c3ed3c",
   "metadata": {},
   "outputs": [
    {
     "data": {
      "text/plain": [
       "\"0100000000010000000000000000000000000000000000000000000000000000\""
      ]
     },
     "execution_count": 55,
     "metadata": {},
     "output_type": "execute_result"
    }
   ],
   "source": [
    "bitstring(x3)"
   ]
  },
  {
   "cell_type": "code",
   "execution_count": 56,
   "id": "39becaef",
   "metadata": {},
   "outputs": [
    {
     "data": {
      "text/plain": [
       "\"0100000000010000000000000000000000000000000000000000000000000001\""
      ]
     },
     "execution_count": 56,
     "metadata": {},
     "output_type": "execute_result"
    }
   ],
   "source": [
    "bitstring(y3)"
   ]
  },
  {
   "cell_type": "code",
   "execution_count": null,
   "id": "d9a902ca",
   "metadata": {},
   "outputs": [],
   "source": []
  },
  {
   "cell_type": "code",
   "execution_count": null,
   "id": "bdedfd13",
   "metadata": {},
   "outputs": [],
   "source": []
  }
 ],
 "metadata": {
  "kernelspec": {
   "display_name": "Julia 1.6.1",
   "language": "julia",
   "name": "julia-1.6"
  },
  "language_info": {
   "file_extension": ".jl",
   "mimetype": "application/julia",
   "name": "julia",
   "version": "1.6.2"
  }
 },
 "nbformat": 4,
 "nbformat_minor": 5
}
